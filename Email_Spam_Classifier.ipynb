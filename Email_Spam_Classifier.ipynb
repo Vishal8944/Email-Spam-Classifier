{
 "cells": [
  {
   "cell_type": "markdown",
   "id": "4bf9a299-45bc-4cc3-b2ed-c840fc6dd921",
   "metadata": {},
   "source": [
    "### Importing Libraries:"
   ]
  },
  {
   "cell_type": "code",
   "execution_count": 1,
   "id": "53e3688d-fda7-4592-8227-58ee151e0f27",
   "metadata": {},
   "outputs": [],
   "source": [
    "import pandas as pd \n",
    "from sklearn.model_selection import train_test_split\n",
    "import nltk\n",
    "from nltk.corpus import stopwords\n",
    "import numpy as np\n",
    "import re\n",
    "from sklearn.preprocessing import LabelEncoder\n",
    "from sklearn.feature_extraction.text import TfidfVectorizer\n",
    "from sklearn.linear_model import LogisticRegression\n",
    "from sklearn.tree import DecisionTreeClassifier\n",
    "from sklearn.metrics import accuracy_score,classification_report\n",
    "import matplotlib.pyplot as plt\n",
    "from sklearn.neighbors import KNeighborsClassifier\n",
    "from sklearn.model_selection import GridSearchCV"
   ]
  },
  {
   "cell_type": "code",
   "execution_count": null,
   "id": "90b5bf32-0d3d-4900-ad06-e9ab8b5fcec8",
   "metadata": {},
   "outputs": [],
   "source": []
  },
  {
   "cell_type": "markdown",
   "id": "b2916aeb-211a-45b4-8823-6e0fab78bd02",
   "metadata": {},
   "source": [
    "### Loading Data:"
   ]
  },
  {
   "cell_type": "code",
   "execution_count": 2,
   "id": "fa56bdc9-87b0-40c0-9c0e-e17718b32f95",
   "metadata": {},
   "outputs": [
    {
     "data": {
      "text/html": [
       "<div>\n",
       "<style scoped>\n",
       "    .dataframe tbody tr th:only-of-type {\n",
       "        vertical-align: middle;\n",
       "    }\n",
       "\n",
       "    .dataframe tbody tr th {\n",
       "        vertical-align: top;\n",
       "    }\n",
       "\n",
       "    .dataframe thead th {\n",
       "        text-align: right;\n",
       "    }\n",
       "</style>\n",
       "<table border=\"1\" class=\"dataframe\">\n",
       "  <thead>\n",
       "    <tr style=\"text-align: right;\">\n",
       "      <th></th>\n",
       "      <th>S. No.</th>\n",
       "      <th>Message_body</th>\n",
       "      <th>Label</th>\n",
       "    </tr>\n",
       "  </thead>\n",
       "  <tbody>\n",
       "    <tr>\n",
       "      <th>0</th>\n",
       "      <td>1</td>\n",
       "      <td>Rofl. Its true to its name</td>\n",
       "      <td>Non-Spam</td>\n",
       "    </tr>\n",
       "    <tr>\n",
       "      <th>1</th>\n",
       "      <td>2</td>\n",
       "      <td>UpgrdCentre Orange customer, you may now claim...</td>\n",
       "      <td>Spam</td>\n",
       "    </tr>\n",
       "    <tr>\n",
       "      <th>2</th>\n",
       "      <td>3</td>\n",
       "      <td>Loan for any purpose £500 - £75,000. Homeowner...</td>\n",
       "      <td>Spam</td>\n",
       "    </tr>\n",
       "    <tr>\n",
       "      <th>3</th>\n",
       "      <td>4</td>\n",
       "      <td>The guy did some bitching but I acted like i'd...</td>\n",
       "      <td>Non-Spam</td>\n",
       "    </tr>\n",
       "    <tr>\n",
       "      <th>4</th>\n",
       "      <td>5</td>\n",
       "      <td>Pity, * was in mood for that. So...any other s...</td>\n",
       "      <td>Non-Spam</td>\n",
       "    </tr>\n",
       "    <tr>\n",
       "      <th>...</th>\n",
       "      <td>...</td>\n",
       "      <td>...</td>\n",
       "      <td>...</td>\n",
       "    </tr>\n",
       "    <tr>\n",
       "      <th>2022</th>\n",
       "      <td>2023</td>\n",
       "      <td>Subject: re : research and development charges...</td>\n",
       "      <td>Non-Spam</td>\n",
       "    </tr>\n",
       "    <tr>\n",
       "      <th>2023</th>\n",
       "      <td>2024</td>\n",
       "      <td>Subject: re : receipts from visit  jim ,  than...</td>\n",
       "      <td>Non-Spam</td>\n",
       "    </tr>\n",
       "    <tr>\n",
       "      <th>2024</th>\n",
       "      <td>2025</td>\n",
       "      <td>Subject: re : enron case study update  wow ! a...</td>\n",
       "      <td>Non-Spam</td>\n",
       "    </tr>\n",
       "    <tr>\n",
       "      <th>2025</th>\n",
       "      <td>2026</td>\n",
       "      <td>Subject: re : interest  david ,  please , call...</td>\n",
       "      <td>Non-Spam</td>\n",
       "    </tr>\n",
       "    <tr>\n",
       "      <th>2026</th>\n",
       "      <td>2027</td>\n",
       "      <td>Subject: news : aurora 5 . 2 update  aurora ve...</td>\n",
       "      <td>Non-Spam</td>\n",
       "    </tr>\n",
       "  </tbody>\n",
       "</table>\n",
       "<p>2027 rows × 3 columns</p>\n",
       "</div>"
      ],
      "text/plain": [
       "      S. No.                                       Message_body     Label\n",
       "0          1                         Rofl. Its true to its name  Non-Spam\n",
       "1          2  UpgrdCentre Orange customer, you may now claim...      Spam\n",
       "2          3  Loan for any purpose £500 - £75,000. Homeowner...      Spam\n",
       "3          4  The guy did some bitching but I acted like i'd...  Non-Spam\n",
       "4          5  Pity, * was in mood for that. So...any other s...  Non-Spam\n",
       "...      ...                                                ...       ...\n",
       "2022    2023  Subject: re : research and development charges...  Non-Spam\n",
       "2023    2024  Subject: re : receipts from visit  jim ,  than...  Non-Spam\n",
       "2024    2025  Subject: re : enron case study update  wow ! a...  Non-Spam\n",
       "2025    2026  Subject: re : interest  david ,  please , call...  Non-Spam\n",
       "2026    2027  Subject: news : aurora 5 . 2 update  aurora ve...  Non-Spam\n",
       "\n",
       "[2027 rows x 3 columns]"
      ]
     },
     "execution_count": 2,
     "metadata": {},
     "output_type": "execute_result"
    }
   ],
   "source": [
    "df=pd.read_csv(r\"C:\\Users\\Vishal S\\OneDrive\\Desktop\\email.csv\")\n",
    "df"
   ]
  },
  {
   "cell_type": "code",
   "execution_count": null,
   "id": "8972297b-1159-412f-9d42-67aca69219e9",
   "metadata": {},
   "outputs": [],
   "source": []
  },
  {
   "cell_type": "markdown",
   "id": "7389f0c5-424c-4844-a29e-80aae0774d36",
   "metadata": {},
   "source": [
    "### Data Analysis:"
   ]
  },
  {
   "cell_type": "code",
   "execution_count": 3,
   "id": "e78833c8-e045-49ad-96ce-d08af9567892",
   "metadata": {},
   "outputs": [
    {
     "data": {
      "text/plain": [
       "(2027, 3)"
      ]
     },
     "execution_count": 3,
     "metadata": {},
     "output_type": "execute_result"
    }
   ],
   "source": [
    "df.shape"
   ]
  },
  {
   "cell_type": "code",
   "execution_count": 4,
   "id": "894d4e50-b92c-4c19-b17b-5c66d431e43d",
   "metadata": {},
   "outputs": [
    {
     "data": {
      "text/plain": [
       "S. No.          0\n",
       "Message_body    0\n",
       "Label           0\n",
       "dtype: int64"
      ]
     },
     "execution_count": 4,
     "metadata": {},
     "output_type": "execute_result"
    }
   ],
   "source": [
    "df.isnull().sum()"
   ]
  },
  {
   "cell_type": "code",
   "execution_count": 5,
   "id": "a8bfae1a-f2ec-4e27-87d4-0f665816815f",
   "metadata": {},
   "outputs": [
    {
     "data": {
      "text/plain": [
       "0"
      ]
     },
     "execution_count": 5,
     "metadata": {},
     "output_type": "execute_result"
    }
   ],
   "source": [
    "df.duplicated().sum()"
   ]
  },
  {
   "cell_type": "code",
   "execution_count": 6,
   "id": "44917fc0-dcae-4dd7-af27-fd20f9374609",
   "metadata": {},
   "outputs": [
    {
     "data": {
      "text/plain": [
       "S. No.           int64\n",
       "Message_body    object\n",
       "Label           object\n",
       "dtype: object"
      ]
     },
     "execution_count": 6,
     "metadata": {},
     "output_type": "execute_result"
    }
   ],
   "source": [
    "df.dtypes"
   ]
  },
  {
   "cell_type": "code",
   "execution_count": 7,
   "id": "c82e1901-9103-46d6-b6e5-66af6d31d1c3",
   "metadata": {},
   "outputs": [
    {
     "name": "stdout",
     "output_type": "stream",
     "text": [
      "<class 'pandas.core.frame.DataFrame'>\n",
      "RangeIndex: 2027 entries, 0 to 2026\n",
      "Data columns (total 3 columns):\n",
      " #   Column        Non-Null Count  Dtype \n",
      "---  ------        --------------  ----- \n",
      " 0   S. No.        2027 non-null   int64 \n",
      " 1   Message_body  2027 non-null   object\n",
      " 2   Label         2027 non-null   object\n",
      "dtypes: int64(1), object(2)\n",
      "memory usage: 47.6+ KB\n"
     ]
    }
   ],
   "source": [
    "df.info()"
   ]
  },
  {
   "cell_type": "code",
   "execution_count": 8,
   "id": "00dc8841-350b-4b3e-af19-b28fe1dcce99",
   "metadata": {},
   "outputs": [
    {
     "data": {
      "text/plain": [
       "Label\n",
       "Non-Spam    1030\n",
       "Spam         997\n",
       "Name: count, dtype: int64"
      ]
     },
     "execution_count": 8,
     "metadata": {},
     "output_type": "execute_result"
    }
   ],
   "source": [
    "df['Label'].value_counts()"
   ]
  },
  {
   "cell_type": "code",
   "execution_count": 9,
   "id": "2fba17ef-e580-428f-87b8-751b3ff932ff",
   "metadata": {},
   "outputs": [
    {
     "data": {
      "image/png": "[encoded data removed]",
      "text/plain": [
       "<Figure size 600x500 with 1 Axes>"
      ]
     },
     "metadata": {},
     "output_type": "display_data"
    }
   ],
   "source": [
    "import seaborn as sns\n",
    "import warnings\n",
    "warnings.filterwarnings('ignore')\n",
    "label_counts = df['Label'].value_counts()\n",
    "plt.figure(figsize=(6, 5))\n",
    "sns.barplot(x=label_counts.index, y=label_counts.values, palette=\"viridis\")\n",
    "plt.xlabel(\"Labels\")\n",
    "plt.ylabel(\"Count\")\n",
    "plt.title(\"Distribution of Labels\")\n",
    "plt.show()"
   ]
  },
  {
   "cell_type": "markdown",
   "id": "61c21da7-3e97-4058-9aa5-28d61ab61175",
   "metadata": {},
   "source": [
    "### Exploring Message_body:"
   ]
  },
  {
   "cell_type": "code",
   "execution_count": 10,
   "id": "6d36e52a-a1ce-4ed6-8deb-cb1488201739",
   "metadata": {},
   "outputs": [
    {
     "data": {
      "text/plain": [
       "'Subject: easy - tag board : : more options to fit your site  thank you for your interest in easy - tag board . our goal is to provide you with the best software and support possible . we know you have a choice and appreciate the opportunity to assist with your online needs . we are confident that you will see the benefits of using the easy - tag board .  highly customizable easy to configure fast , reliable , & secure  server o / s independent cross - browser compatible more features text - decoration : none \" face = arial , helvetica , sans - serif > www . easy - tagboard . com  you are receiving this email because you opted - in to our mailing list or someone you know referred you to us . we respect your right to privacy and your desire not to be bothered by unwanted emails . if you do not wish to receive any further newsletters , please click the link below to be permanently removed from out mailing list .  to unsubscribe click ( here ) .'"
      ]
     },
     "execution_count": 10,
     "metadata": {},
     "output_type": "execute_result"
    }
   ],
   "source": [
    "df['Message_body'][1557]"
   ]
  },
  {
   "cell_type": "code",
   "execution_count": null,
   "id": "43cd5927-7b61-422a-bd0f-e70246624398",
   "metadata": {},
   "outputs": [],
   "source": []
  },
  {
   "cell_type": "markdown",
   "id": "3d1c4175-9830-4b4a-a4e8-33015cf8be21",
   "metadata": {},
   "source": [
    "### Converting Words into Categorical values:"
   ]
  },
  {
   "cell_type": "code",
   "execution_count": 11,
   "id": "07076560-0e1b-4a05-a3b0-ecb5017e3e11",
   "metadata": {},
   "outputs": [],
   "source": [
    "le=LabelEncoder()\n",
    "df['Label']=le.fit_transform(df['Label'])"
   ]
  },
  {
   "cell_type": "code",
   "execution_count": 12,
   "id": "a5751d93-107b-4864-888c-d5d8889c9e9d",
   "metadata": {},
   "outputs": [
    {
     "name": "stderr",
     "output_type": "stream",
     "text": [
      "[nltk_data] Downloading package stopwords to C:\\Users\\Vishal\n",
      "[nltk_data]     S\\AppData\\Roaming\\nltk_data...\n",
      "[nltk_data]   Package stopwords is already up-to-date!\n"
     ]
    },
    {
     "data": {
      "text/plain": [
       "True"
      ]
     },
     "execution_count": 12,
     "metadata": {},
     "output_type": "execute_result"
    }
   ],
   "source": [
    "nltk.download('stopwords')"
   ]
  },
  {
   "cell_type": "code",
   "execution_count": null,
   "id": "f8fee959-0a72-4562-95ab-d54fb66c8cce",
   "metadata": {},
   "outputs": [],
   "source": []
  },
  {
   "cell_type": "markdown",
   "id": "a325b91e-ff05-4f74-a86d-d5f03aaa7bac",
   "metadata": {},
   "source": [
    "### Data Cleaning:"
   ]
  },
  {
   "cell_type": "code",
   "execution_count": 13,
   "id": "c80feeaf-f180-41ef-a202-f0a48397dff9",
   "metadata": {},
   "outputs": [],
   "source": [
    "def clean(text):\n",
    "    text = text.lower()  # Convert to lowercase\n",
    "    text = re.sub(r'\\d+', '', text)  # Remove numbers\n",
    "    text = re.sub(r'[^\\w\\s]', '', text)  # Remove punctuation\n",
    "    text = text.strip()  # Remove extra spaces\n",
    "    text = \" \".join(word for word in text.split() if word not in stopwords.words('english'))  # Remove stopwords\n",
    "    return text"
   ]
  },
  {
   "cell_type": "code",
   "execution_count": 14,
   "id": "936b7bac-1cf2-4338-955a-e5003dd19386",
   "metadata": {},
   "outputs": [],
   "source": [
    "df['Message_body']=df['Message_body'].apply(clean)"
   ]
  },
  {
   "cell_type": "code",
   "execution_count": null,
   "id": "0ed64e6f-f6be-4a70-b073-f093153870a8",
   "metadata": {},
   "outputs": [],
   "source": []
  },
  {
   "cell_type": "code",
   "execution_count": null,
   "id": "f00afe77-6159-4923-bea0-e784182a7c38",
   "metadata": {},
   "outputs": [],
   "source": []
  },
  {
   "cell_type": "markdown",
   "id": "047fc011-9420-409c-9900-91ed71433469",
   "metadata": {},
   "source": [
    "### Vectorization:"
   ]
  },
  {
   "cell_type": "code",
   "execution_count": 15,
   "id": "1f03cf09-db07-4aa0-a7e0-d20d280356c6",
   "metadata": {},
   "outputs": [],
   "source": [
    "cv=TfidfVectorizer()\n",
    "X=cv.fit_transform(df.Message_body.values).toarray()\n",
    "X=pd.DataFrame(X,columns=cv.get_feature_names_out())"
   ]
  },
  {
   "cell_type": "code",
   "execution_count": null,
   "id": "59a5b464-ad00-423b-8b23-237e1ddc2f5f",
   "metadata": {},
   "outputs": [],
   "source": []
  },
  {
   "cell_type": "markdown",
   "id": "a14af7ba-6eec-42ab-8f89-ee2ebb72837e",
   "metadata": {},
   "source": [
    "### Splitting Data:"
   ]
  },
  {
   "cell_type": "code",
   "execution_count": 16,
   "id": "75b8346c-c54c-473e-81c0-259cda608559",
   "metadata": {},
   "outputs": [],
   "source": [
    "x_train,x_test,y_train,y_test=train_test_split(X, df.Label, test_size=0.2, random_state=17)"
   ]
  },
  {
   "cell_type": "code",
   "execution_count": 17,
   "id": "1832229e-71a1-4a56-89ef-68002fe8f3b7",
   "metadata": {},
   "outputs": [
    {
     "data": {
      "text/plain": [
       "(406, 15797)"
      ]
     },
     "execution_count": 17,
     "metadata": {},
     "output_type": "execute_result"
    }
   ],
   "source": [
    "x_test.shape"
   ]
  },
  {
   "cell_type": "code",
   "execution_count": 18,
   "id": "4e2a7519-108d-4753-8749-cf72cfab00a1",
   "metadata": {},
   "outputs": [
    {
     "data": {
      "text/plain": [
       "(1621, 15797)"
      ]
     },
     "execution_count": 18,
     "metadata": {},
     "output_type": "execute_result"
    }
   ],
   "source": [
    "x_train.shape"
   ]
  },
  {
   "cell_type": "code",
   "execution_count": null,
   "id": "eaa8ace6-7dd6-4ff2-833c-a73e2b255c58",
   "metadata": {},
   "outputs": [],
   "source": []
  },
  {
   "cell_type": "code",
   "execution_count": null,
   "id": "5bc11d0b-0120-4e76-974d-c6ca4ce4a560",
   "metadata": {},
   "outputs": [],
   "source": []
  },
  {
   "cell_type": "code",
   "execution_count": null,
   "id": "8bb2acf0-42da-4e46-a531-4ae772cd20e2",
   "metadata": {},
   "outputs": [],
   "source": []
  },
  {
   "cell_type": "markdown",
   "id": "ebefd552-dfd2-4c72-bbfd-3d70e4426949",
   "metadata": {},
   "source": [
    "### Now Let's Train the Model and print the Classification Report:"
   ]
  },
  {
   "cell_type": "markdown",
   "id": "44482ffa-114b-4b08-8394-cf46a20be49d",
   "metadata": {},
   "source": [
    "### KNN:"
   ]
  },
  {
   "cell_type": "code",
   "execution_count": 19,
   "id": "887e5839-abe1-4fe9-a704-88e4f4bd06d2",
   "metadata": {},
   "outputs": [
    {
     "name": "stdout",
     "output_type": "stream",
     "text": [
      "\n",
      "KNeighborsClassifier Results:\n",
      "Accuracy: 0.6256\n",
      "Classification Report:\n",
      "              precision    recall  f1-score   support\n",
      "\n",
      "           0       0.58      1.00      0.73       208\n",
      "           1       1.00      0.23      0.38       198\n",
      "\n",
      "    accuracy                           0.63       406\n",
      "   macro avg       0.79      0.62      0.55       406\n",
      "weighted avg       0.78      0.63      0.56       406\n",
      "\n"
     ]
    }
   ],
   "source": [
    "from sklearn.multiclass import OneVsRestClassifier\n",
    "knn = OneVsRestClassifier(KNeighborsClassifier())\n",
    "knn.fit(x_train, y_train)\n",
    "y_pred_knn = knn.predict(x_test)\n",
    "print(\"\\nKNeighborsClassifier Results:\")\n",
    "print(f\"Accuracy: {accuracy_score(y_test, y_pred_knn):.4f}\")\n",
    "print(f\"Classification Report:\\n{classification_report(y_test, y_pred_knn)}\")"
   ]
  },
  {
   "cell_type": "markdown",
   "id": "b7a9e817-bba0-44af-9fdb-901593070724",
   "metadata": {},
   "source": [
    "### SVM:"
   ]
  },
  {
   "cell_type": "code",
   "execution_count": 20,
   "id": "a589517d-cf2c-40ec-8605-3fa5445f56ca",
   "metadata": {},
   "outputs": [
    {
     "name": "stdout",
     "output_type": "stream",
     "text": [
      "\n",
      "SVC Results:\n",
      "Accuracy: 0.9557\n",
      "Classification Report:\n",
      "              precision    recall  f1-score   support\n",
      "\n",
      "           0       0.92      1.00      0.96       208\n",
      "           1       0.99      0.91      0.95       198\n",
      "\n",
      "    accuracy                           0.96       406\n",
      "   macro avg       0.96      0.95      0.96       406\n",
      "weighted avg       0.96      0.96      0.96       406\n",
      "\n"
     ]
    }
   ],
   "source": [
    "from sklearn.svm import SVC\n",
    "svc = OneVsRestClassifier(SVC())\n",
    "svc.fit(x_train, y_train)\n",
    "y_pred_svc = svc.predict(x_test)\n",
    "print(\"\\nSVC Results:\")\n",
    "print(f\"Accuracy: {accuracy_score(y_test, y_pred_svc):.4f}\")\n",
    "print(f\"Classification Report:\\n{classification_report(y_test, y_pred_svc)}\")"
   ]
  },
  {
   "cell_type": "markdown",
   "id": "21e279d7-254d-4444-9700-48f3495a1dfa",
   "metadata": {},
   "source": [
    "### Random Forest:"
   ]
  },
  {
   "cell_type": "code",
   "execution_count": 21,
   "id": "7c559dff-8c9a-4d24-a785-2355d3cab024",
   "metadata": {},
   "outputs": [
    {
     "name": "stdout",
     "output_type": "stream",
     "text": [
      "\n",
      "RandomForestClassifier Results:\n",
      "Accuracy: 0.9433\n",
      "Classification Report:\n",
      "              precision    recall  f1-score   support\n",
      "\n",
      "           0       0.92      0.98      0.95       208\n",
      "           1       0.97      0.91      0.94       198\n",
      "\n",
      "    accuracy                           0.94       406\n",
      "   macro avg       0.95      0.94      0.94       406\n",
      "weighted avg       0.95      0.94      0.94       406\n",
      "\n"
     ]
    }
   ],
   "source": [
    "from sklearn.ensemble import RandomForestClassifier\n",
    "rf = OneVsRestClassifier(RandomForestClassifier())\n",
    "rf.fit(x_train, y_train)\n",
    "y_pred_rf = rf.predict(x_test)\n",
    "print(\"\\nRandomForestClassifier Results:\")\n",
    "print(f\"Accuracy: {accuracy_score(y_test, y_pred_rf):.4f}\")\n",
    "print(f\"Classification Report:\\n{classification_report(y_test, y_pred_rf)}\")"
   ]
  },
  {
   "cell_type": "markdown",
   "id": "e27ae685-f30b-4b99-ae0b-8384f46a1044",
   "metadata": {},
   "source": [
    "### Logistic Regression:"
   ]
  },
  {
   "cell_type": "code",
   "execution_count": 21,
   "id": "8cef5719-cf15-43f7-93a8-cf716d6f7e8d",
   "metadata": {},
   "outputs": [
    {
     "name": "stdout",
     "output_type": "stream",
     "text": [
      "Accuracy: 0.9532\n",
      "Classification Report:\n",
      "              precision    recall  f1-score   support\n",
      "\n",
      "           0       0.93      0.98      0.96       208\n",
      "           1       0.98      0.92      0.95       198\n",
      "\n",
      "    accuracy                           0.95       406\n",
      "   macro avg       0.96      0.95      0.95       406\n",
      "weighted avg       0.95      0.95      0.95       406\n",
      "\n"
     ]
    }
   ],
   "source": [
    "log=LogisticRegression()\n",
    "log.fit(x_train,y_train)\n",
    "y_pred=log.predict(x_test)\n",
    "print(f\"Accuracy: {accuracy_score(y_test, y_pred_rf):.4f}\")\n",
    "print(f\"Classification Report:\\n{classification_report(y_test, y_pred_rf)}\")"
   ]
  },
  {
   "cell_type": "markdown",
   "id": "abc97a68-da48-4403-9bc5-95aca8958949",
   "metadata": {},
   "source": [
    "### Decision tree:"
   ]
  },
  {
   "cell_type": "code",
   "execution_count": 22,
   "id": "1e006725-77c6-4ce0-98e8-60e6b7d67c51",
   "metadata": {},
   "outputs": [
    {
     "name": "stdout",
     "output_type": "stream",
     "text": [
      "\n",
      "RandomForestClassifier Results:\n",
      "Accuracy: 0.9286\n",
      "Classification Report:\n",
      "              precision    recall  f1-score   support\n",
      "\n",
      "           0       0.94      0.92      0.93       208\n",
      "           1       0.92      0.93      0.93       198\n",
      "\n",
      "    accuracy                           0.93       406\n",
      "   macro avg       0.93      0.93      0.93       406\n",
      "weighted avg       0.93      0.93      0.93       406\n",
      "\n"
     ]
    }
   ],
   "source": [
    "\n",
    "dt = OneVsRestClassifier(DecisionTreeClassifier())\n",
    "dt.fit(x_train, y_train)\n",
    "y_pred_rf = dt.predict(x_test)\n",
    "print(\"\\nRandomForestClassifier Results:\")\n",
    "print(f\"Accuracy: {accuracy_score(y_test, y_pred_rf):.4f}\")\n",
    "print(f\"Classification Report:\\n{classification_report(y_test, y_pred_rf)}\")"
   ]
  },
  {
   "cell_type": "code",
   "execution_count": null,
   "id": "8af12fdf-7667-45a3-8376-074531641d3c",
   "metadata": {},
   "outputs": [],
   "source": []
  },
  {
   "cell_type": "code",
   "execution_count": null,
   "id": "b52687a3-0434-480e-b378-d53c0df7cccb",
   "metadata": {},
   "outputs": [],
   "source": []
  },
  {
   "cell_type": "markdown",
   "id": "c83c68fd-ffc3-47b3-923c-fafd0d8a2b7d",
   "metadata": {},
   "source": [
    "### Conclusion :\n",
    "1) KNN:0.6256\n",
    "2) SVM:0.9447\n",
    "3) RF:0.9458\n",
    "4) Log:0.9458\n",
    "5) DT:0.9261"
   ]
  },
  {
   "cell_type": "markdown",
   "id": "d10108ff-51b3-4b34-b54f-0ecb156e84d5",
   "metadata": {},
   "source": [
    "### Therefore Logistic Regression is giving the highest Accuracy for the above dataset."
   ]
  },
  {
   "cell_type": "code",
   "execution_count": null,
   "id": "72a980ce-0e0f-4132-ab6d-23853f16dced",
   "metadata": {},
   "outputs": [],
   "source": []
  },
  {
   "cell_type": "markdown",
   "id": "73d5687b-ae4a-44e7-a938-5ea23a3abeca",
   "metadata": {},
   "source": [
    "### Saving the Model:"
   ]
  },
  {
   "cell_type": "code",
   "execution_count": 23,
   "id": "56bf4bc1-4d0a-45d2-91b4-a7008fd34a33",
   "metadata": {},
   "outputs": [
    {
     "data": {
      "text/plain": [
       "['tfidf.joblib']"
      ]
     },
     "execution_count": 23,
     "metadata": {},
     "output_type": "execute_result"
    }
   ],
   "source": [
    "import joblib\n",
    "\n",
    "# Save the trained model and vectorizer\n",
    "joblib.dump(log, \"spam.joblib\")  \n",
    "joblib.dump(cv, \"tfidf.joblib\")"
   ]
  },
  {
   "cell_type": "code",
   "execution_count": null,
   "id": "9fb16c08-2120-4b25-8d75-41ab75589715",
   "metadata": {},
   "outputs": [],
   "source": []
  },
  {
   "cell_type": "markdown",
   "id": "203dda42-e00a-4557-9782-be40d3476a06",
   "metadata": {},
   "source": [
    "### Prediction system:"
   ]
  },
  {
   "cell_type": "code",
   "execution_count": 24,
   "id": "2d54973b-044b-4b7f-b420-f032ba9684fc",
   "metadata": {},
   "outputs": [],
   "source": [
    "# Function to predict the category of a resume\n",
    "def pred(input):\n",
    "    # Preprocess the input text (e.g., cleaning, etc.)\n",
    "    cleaned_text = clean(input) \n",
    "\n",
    "    # Vectorize the cleaned text using the same TF-IDF vectorizer used during training\n",
    "    vectorized_text = cv.transform([cleaned_text])\n",
    "    \n",
    "    # Convert sparse matrix to dense\n",
    "    vectorized_text = vectorized_text.toarray()\n",
    "\n",
    "    # Prediction\n",
    "    predicted_category = log.predict(vectorized_text)\n",
    "\n",
    "    # get name of predicted category\n",
    "    predicted_category_name = le.inverse_transform(predicted_category)\n",
    "\n",
    "    return predicted_category_name[0]  # Return the category name"
   ]
  },
  {
   "cell_type": "code",
   "execution_count": null,
   "id": "d4069881-819c-437e-abe9-77dcb3d06784",
   "metadata": {},
   "outputs": [],
   "source": []
  },
  {
   "cell_type": "code",
   "execution_count": 25,
   "id": "7c7cf907-d269-4351-98f0-b3291c490689",
   "metadata": {},
   "outputs": [
    {
     "data": {
      "text/plain": [
       "'Spam'"
      ]
     },
     "execution_count": 25,
     "metadata": {},
     "output_type": "execute_result"
    }
   ],
   "source": [
    "mymail=\"\"\"Subject: Urgent: Your Account Will Be Suspended in 24 Hours\n",
    "\n",
    "Dear vishal,\n",
    "\n",
    "We recently detected unusual activity on your account and suspect unauthorized access. For your security, we have temporarily limited certain functions of your account.\n",
    "\n",
    "To restore full access, please verify your account details immediately by clicking the secure link below:\n",
    "\n",
    "👉 Verify My Account\n",
    "\n",
    "If you do not verify within 24 hours, your account will be permanently suspended.\n",
    "\n",
    "Thank you for your prompt attention to this matter.\"\"\"\n",
    "\n",
    "pred(mymail)"
   ]
  },
  {
   "cell_type": "code",
   "execution_count": 26,
   "id": "232e94fc-45d0-47cb-919c-2bffce741fbd",
   "metadata": {},
   "outputs": [
    {
     "data": {
      "text/plain": [
       "'Non-Spam'"
      ]
     },
     "execution_count": 26,
     "metadata": {},
     "output_type": "execute_result"
    }
   ],
   "source": [
    "mymail=\"\"\"Subject: Interview Invitation for Data Scientist Role – [Company Name]\n",
    "\n",
    "Dear [Your Name],\n",
    "\n",
    "We are pleased to inform you that your application for the Data Scientist position at [Company Name] has been shortlisted. We would like to invite you for an interview to discuss your qualifications further.\n",
    "\n",
    "Interview Details:\n",
    "📅 Date: [Date]\n",
    "⏰ Time: [Time]\n",
    "📍 Location: [Company Office/Virtual Meeting Link]\n",
    "\n",
    "Please confirm your availability by replying to this email. If the proposed time does not work for you, kindly suggest an alternative slot.\n",
    "\n",
    "We look forward to speaking with you.\"\"\"\n",
    "\n",
    "pred(mymail)"
   ]
  },
  {
   "cell_type": "code",
   "execution_count": null,
   "id": "90f4a012-7083-4d52-914a-cb035eb4143f",
   "metadata": {},
   "outputs": [],
   "source": []
  }
 ],
 "metadata": {
  "kernelspec": {
   "display_name": "Python 3 (ipykernel)",
   "language": "python",
   "name": "python3"
  },
  "language_info": {
   "codemirror_mode": {
    "name": "ipython",
    "version": 3
   },
   "file_extension": ".py",
   "mimetype": "text/x-python",
   "name": "python",
   "nbconvert_exporter": "python",
   "pygments_lexer": "ipython3",
   "version": "3.12.4"
  }
 },
 "nbformat": 4,
 "nbformat_minor": 5
}
